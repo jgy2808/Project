{
 "cells": [
  {
   "cell_type": "markdown",
   "id": "4412c4d7",
   "metadata": {},
   "source": [
    "**Import Library**"
   ]
  },
  {
   "cell_type": "code",
   "execution_count": 15,
   "id": "1a5242bb",
   "metadata": {},
   "outputs": [],
   "source": [
    "import os\n",
    "import glob\n",
    "import shutil\n",
    "from sklearn.model_selection import train_test_split"
   ]
  },
  {
   "cell_type": "markdown",
   "id": "4ec7ff97",
   "metadata": {},
   "source": [
    "**Split Train, Validation, Test Dataset**"
   ]
  },
  {
   "cell_type": "code",
   "execution_count": 16,
   "id": "38a4db67",
   "metadata": {},
   "outputs": [
    {
     "name": "stdout",
     "output_type": "stream",
     "text": [
      "Num of All Images: 10015\n",
      "Num of Train Dataset: 6009\n",
      "Num of Validation Dataset: 2003\n",
      "Num of Test Dataset: 2003\n"
     ]
    }
   ],
   "source": [
    "all_image_list = glob.glob('./Dataset/Images/*.jpg')\n",
    "print('Num of All Images: {}'.format(len(all_image_list)))\n",
    "\n",
    "# Split Train, Validation, Test Image\n",
    "img_train, img_test = train_test_split(all_image_list, test_size=0.2, random_state=42)\n",
    "img_train, img_val = train_test_split(img_train, test_size=0.25, random_state=42)\n",
    "\n",
    "# Check Num of Dataset\n",
    "print('Num of Train Dataset: {}'.format(len(img_train)))\n",
    "print('Num of Validation Dataset: {}'.format(len(img_val)))\n",
    "print('Num of Test Dataset: {}'.format(len(img_test)))"
   ]
  },
  {
   "cell_type": "markdown",
   "id": "6a1dd22d",
   "metadata": {},
   "source": [
    "**Move to Directory**"
   ]
  },
  {
   "cell_type": "code",
   "execution_count": 17,
   "id": "ab8625bc",
   "metadata": {},
   "outputs": [],
   "source": [
    "# Train Image Move\n",
    "for d in img_train:\n",
    "    shutil.copyfile(d, os.path.join('./Dataset/Train/', d.split('/')[-1]))\n",
    "\n",
    "# Validation Image Move\n",
    "for d in img_val:\n",
    "    shutil.copyfile(d, os.path.join('./Dataset/Val/', d.split('/')[-1]))\n",
    "\n",
    "# Test Image Move\n",
    "for d in img_test:\n",
    "    shutil.copyfile(d, os.path.join('./Dataset/Test/', d.split('/')[-1]))"
   ]
  },
  {
   "cell_type": "markdown",
   "id": "bf3d46a7",
   "metadata": {},
   "source": [
    "**Check Result of Move to Directory**"
   ]
  },
  {
   "cell_type": "code",
   "execution_count": 18,
   "id": "8e019857",
   "metadata": {},
   "outputs": [
    {
     "name": "stdout",
     "output_type": "stream",
     "text": [
      "Num of Train Dataset: 6009\n",
      "Num of Validation Dataset: 2003\n",
      "Num of Test Dataset: 2003\n"
     ]
    }
   ],
   "source": [
    "train_image_list = glob.glob('./Dataset/Train/*.jpg')\n",
    "val_image_list = glob.glob('./Dataset/Val/*.jpg')\n",
    "test_image_list = glob.glob('./Dataset/Test/*.jpg')\n",
    "\n",
    "# Check Num of Dataset\n",
    "print('Num of Train Dataset: {}'.format(len(train_image_list)))\n",
    "print('Num of Validation Dataset: {}'.format(len(val_image_list)))\n",
    "print('Num of Test Dataset: {}'.format(len(test_image_list)))"
   ]
  }
 ],
 "metadata": {
  "kernelspec": {
   "display_name": "Python 3",
   "language": "python",
   "name": "python3"
  },
  "language_info": {
   "codemirror_mode": {
    "name": "ipython",
    "version": 3
   },
   "file_extension": ".py",
   "mimetype": "text/x-python",
   "name": "python",
   "nbconvert_exporter": "python",
   "pygments_lexer": "ipython3",
   "version": "3.6.13"
  }
 },
 "nbformat": 4,
 "nbformat_minor": 5
}
